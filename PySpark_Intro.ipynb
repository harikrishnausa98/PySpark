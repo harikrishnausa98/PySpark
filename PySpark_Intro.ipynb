{
  "cells": [
    {
      "cell_type": "markdown",
      "metadata": {
        "id": "view-in-github",
        "colab_type": "text"
      },
      "source": [
        "<a href=\"https://colab.research.google.com/github/harikrishnausa98/PySpark/blob/main/PySpark_Intro.ipynb\" target=\"_parent\"><img src=\"https://colab.research.google.com/assets/colab-badge.svg\" alt=\"Open In Colab\"/></a>"
      ]
    },
    {
      "cell_type": "markdown",
      "id": "31d9a4c9",
      "metadata": {
        "origin_pos": 0,
        "id": "31d9a4c9"
      },
      "source": [
        "# Using Jupyter Notebooks\n",
        ":label:`sec_jupyter`\n",
        "\n",
        "\n",
        "This section describes how to edit and run the code\n",
        "in each section of this book\n",
        "using the Jupyter Notebook. Make sure you have\n",
        "installed Jupyter and downloaded the\n",
        "code as described in\n",
        ":ref:`chap_installation`.\n",
        "If you want to know more about Jupyter see the excellent tutorial in\n",
        "their [documentation](https://jupyter.readthedocs.io/en/latest/).\n",
        "\n",
        "\n",
        "## Editing and Running the Code Locally\n",
        "\n",
        "Suppose that the local path of the book's code is `xx/yy/d2l-en/`. Use the shell to change the directory to this path (`cd xx/yy/d2l-en`) and run the command `jupyter notebook`. If your browser does not do this automatically, open http://localhost:8888 and you will see the interface of Jupyter and all the folders containing the code of the book, as shown in :numref:`fig_jupyter00`.\n",
        "\n",
        "![The folders containing the code of this book.](https://github.com/d2l-ai/d2l-en-colab/blob/master/img/jupyter00.png?raw=1)\n",
        ":width:`600px`\n",
        ":label:`fig_jupyter00`\n",
        "\n",
        "\n",
        "You can access the notebook files by clicking on the folder displayed on the webpage.\n",
        "They usually have the suffix \".ipynb\".\n",
        "For the sake of brevity, we create a temporary \"test.ipynb\" file.\n",
        "The content displayed after you click it is\n",
        "shown in :numref:`fig_jupyter01`.\n",
        "This notebook includes a markdown cell and a code cell. The content in the markdown cell includes \"This Is a Title\" and \"This is text.\".\n",
        "The code cell contains two lines of Python code.\n",
        "\n",
        "![Markdown and code cells in the \"text.ipynb\" file.](https://github.com/d2l-ai/d2l-en-colab/blob/master/img/jupyter01.png?raw=1)\n",
        ":width:`600px`\n",
        ":label:`fig_jupyter01`\n",
        "\n",
        "\n",
        "Double click on the markdown cell to enter edit mode.\n",
        "Add a new text string \"Hello world.\" at the end of the cell, as shown in :numref:`fig_jupyter02`.\n",
        "\n",
        "![Edit the markdown cell.](https://github.com/d2l-ai/d2l-en-colab/blob/master/img/jupyter02.png?raw=1)\n",
        ":width:`600px`\n",
        ":label:`fig_jupyter02`\n",
        "\n",
        "\n",
        "As demonstrated in :numref:`fig_jupyter03`,\n",
        "click \"Cell\" $\\rightarrow$ \"Run Cells\" in the menu bar to run the edited cell.\n",
        "\n",
        "![Run the cell.](https://github.com/d2l-ai/d2l-en-colab/blob/master/img/jupyter03.png?raw=1)\n",
        ":width:`600px`\n",
        ":label:`fig_jupyter03`\n",
        "\n",
        "After running, the markdown cell is shown in :numref:`fig_jupyter04`.\n",
        "\n",
        "![The markdown cell after running.](https://github.com/d2l-ai/d2l-en-colab/blob/master/img/jupyter04.png?raw=1)\n",
        ":width:`600px`\n",
        ":label:`fig_jupyter04`\n",
        "\n",
        "\n",
        "Next, click on the code cell. Multiply the elements by 2 after the last line of code, as shown in :numref:`fig_jupyter05`.\n",
        "\n",
        "![Edit the code cell.](https://github.com/d2l-ai/d2l-en-colab/blob/master/img/jupyter05.png?raw=1)\n",
        ":width:`600px`\n",
        ":label:`fig_jupyter05`\n",
        "\n",
        "\n",
        "You can also run the cell with a shortcut (\"Ctrl + Enter\" by default) and obtain the output result from :numref:`fig_jupyter06`.\n",
        "\n",
        "![Run the code cell to obtain the output.](https://github.com/d2l-ai/d2l-en-colab/blob/master/img/jupyter06.png?raw=1)\n",
        ":width:`600px`\n",
        ":label:`fig_jupyter06`\n",
        "\n",
        "\n",
        "When a notebook contains more cells, we can click \"Kernel\" $\\rightarrow$ \"Restart & Run All\" in the menu bar to run all the cells in the entire notebook. By clicking \"Help\" $\\rightarrow$ \"Edit Keyboard Shortcuts\" in the menu bar, you can edit the shortcuts according to your preferences.\n",
        "\n",
        "## Advanced Options\n",
        "\n",
        "Beyond local editing two things are quite important: editing the notebooks in the markdown format and running Jupyter remotely.\n",
        "The latter matters when we want to run the code on a faster server.\n",
        "The former matters since Jupyter's native ipynb format stores a lot of auxiliary data that is\n",
        "irrelevant to the content,\n",
        "mostly related to how and where the code is run.\n",
        "This is confusing for Git, making\n",
        "reviewing contributions very difficult.\n",
        "Fortunately there is an alternative---native editing in the markdown format.\n",
        "\n",
        "### Markdown Files in Jupyter\n",
        "\n",
        "If you wish to contribute to the content of this book, you need to modify the\n",
        "source file (md file, not ipynb file) on GitHub.\n",
        "Using the notedown plugin we\n",
        "can modify notebooks in the md format directly in Jupyter.\n",
        "\n",
        "\n",
        "First, install the notedown plugin, run the Jupyter Notebook, and load the plugin:\n",
        "\n",
        "```\n",
        "pip install d2l-notedown  # You may need to uninstall the original notedown.\n",
        "jupyter notebook --NotebookApp.contents_manager_class='notedown.NotedownContentsManager'\n",
        "```\n",
        "\n",
        "You may also turn on the notedown plugin by default whenever you run the Jupyter Notebook.\n",
        "First, generate a Jupyter Notebook configuration file (if it has already been generated, you can skip this step).\n",
        "\n",
        "```\n",
        "jupyter notebook --generate-config\n",
        "```\n",
        "\n",
        "Then, add the following line to the end of the Jupyter Notebook configuration file (for Linux or macOS, usually in the path `~/.jupyter/jupyter_notebook_config.py`):\n",
        "\n",
        "```\n",
        "c.NotebookApp.contents_manager_class = 'notedown.NotedownContentsManager'\n",
        "```\n",
        "\n",
        "After that, you only need to run the `jupyter notebook` command to turn on the notedown plugin by default.\n",
        "\n",
        "### Running Jupyter Notebooks on a Remote Server\n",
        "\n",
        "Sometimes, you may want to run Jupyter notebooks on a remote server and access it through a browser on your local computer. If Linux or macOS is installed on your local machine (Windows can also support this function through third-party software such as PuTTY), you can use port forwarding:\n",
        "\n",
        "```\n",
        "ssh myserver -L 8888:localhost:8888\n",
        "```\n",
        "\n",
        "The above string `myserver` is the address of the remote server.\n",
        "Then we can use http://localhost:8888 to access the remote server `myserver` that runs Jupyter notebooks. We will detail on how to run Jupyter notebooks on AWS instances\n",
        "later in this appendix.\n",
        "\n",
        "### Timing\n",
        "\n",
        "We can use the `ExecuteTime` plugin to time the execution of each code cell in Jupyter notebooks.\n",
        "Use the following commands to install the plugin:\n",
        "\n",
        "```\n",
        "pip install jupyter_contrib_nbextensions\n",
        "jupyter contrib nbextension install --user\n",
        "jupyter nbextension enable execute_time/ExecuteTime\n",
        "```\n",
        "\n",
        "## Summary\n",
        "\n",
        "* Using the Jupyter Notebook tool, we can edit, run, and contribute to each section of the book.\n",
        "* We can run Jupyter notebooks on remote servers using port forwarding.\n",
        "\n",
        "\n",
        "## Exercises\n",
        "\n",
        "1. Edit and run the code in this book with the Jupyter Notebook on your local machine.\n",
        "1. Edit and run the code in this book with the Jupyter Notebook *remotely* via port forwarding.\n",
        "1. Compare the running time of the operations $\\mathbf{A}^\\top \\mathbf{B}$ and $\\mathbf{A} \\mathbf{B}$ for two square matrices in $\\mathbb{R}^{1024 \\times 1024}$. Which one is faster?\n",
        "\n",
        "\n",
        "[Discussions](https://discuss.d2l.ai/t/421)\n"
      ]
    },
    {
      "cell_type": "code",
      "source": [
        "from pyspark.sql import SparkSession\n",
        "spark=(SparkSession.builder.appName(\"SparkIntro\").getOrCreate())"
      ],
      "metadata": {
        "id": "R_G-lO4OYkfB"
      },
      "id": "R_G-lO4OYkfB",
      "execution_count": null,
      "outputs": []
    },
    {
      "cell_type": "code",
      "source": [
        "spark"
      ],
      "metadata": {
        "id": "e9MO-9XDZETr"
      },
      "id": "e9MO-9XDZETr",
      "execution_count": null,
      "outputs": []
    },
    {
      "cell_type": "code",
      "source": [
        "ls -l /content/sample_data/"
      ],
      "metadata": {
        "id": "PaFw9SNVprR0"
      },
      "id": "PaFw9SNVprR0",
      "execution_count": null,
      "outputs": []
    },
    {
      "cell_type": "code",
      "source": [
        "df=spark.read.csv(\"/content/sample_data/employee_details_0915.csv\",header=True,inferSchema=True)"
      ],
      "metadata": {
        "id": "bZXddfg3ZIQ8"
      },
      "id": "bZXddfg3ZIQ8",
      "execution_count": null,
      "outputs": []
    },
    {
      "cell_type": "code",
      "source": [
        "df.printSchema()"
      ],
      "metadata": {
        "id": "F0ICp_D-aLBU"
      },
      "id": "F0ICp_D-aLBU",
      "execution_count": null,
      "outputs": []
    },
    {
      "cell_type": "code",
      "source": [
        "df.show()"
      ],
      "metadata": {
        "id": "XfGlJdeSaLDh"
      },
      "id": "XfGlJdeSaLDh",
      "execution_count": null,
      "outputs": []
    },
    {
      "cell_type": "code",
      "source": [
        "df.printSchema()"
      ],
      "metadata": {
        "id": "d3xwiqCiaLF5"
      },
      "id": "d3xwiqCiaLF5",
      "execution_count": null,
      "outputs": []
    },
    {
      "cell_type": "code",
      "source": [
        "df.schema"
      ],
      "metadata": {
        "id": "3X7pOTWLaLIK"
      },
      "id": "3X7pOTWLaLIK",
      "execution_count": null,
      "outputs": []
    },
    {
      "cell_type": "code",
      "source": [
        "from pyspark.sql.functions import expr,col"
      ],
      "metadata": {
        "id": "ASSEfG_FaLKq"
      },
      "id": "ASSEfG_FaLKq",
      "execution_count": null,
      "outputs": []
    },
    {
      "cell_type": "code",
      "source": [
        "df_filter=df.select(expr(\"Name\"),df.Location,col(\"Department\")).show()"
      ],
      "metadata": {
        "id": "AofzVy76e1Iz"
      },
      "id": "AofzVy76e1Iz",
      "execution_count": null,
      "outputs": []
    },
    {
      "cell_type": "code",
      "source": [
        "df_emp=df.select(expr(\" Name as SRC\"),df.Location,col(\"Employee ID\")).show()"
      ],
      "metadata": {
        "id": "2fCNn2ljhvLb"
      },
      "id": "2fCNn2ljhvLb",
      "execution_count": null,
      "outputs": []
    },
    {
      "cell_type": "code",
      "source": [
        "df_emp=df.select(expr(\"`Employee ID` as EMP_ID \"),df.Location,col(\"Employee ID\")).show()"
      ],
      "metadata": {
        "id": "G9QCgSQehvNx"
      },
      "id": "G9QCgSQehvNx",
      "execution_count": null,
      "outputs": []
    },
    {
      "cell_type": "code",
      "source": [
        "df_emp=df.select(expr(\"`Employee ID` as EMP_ID \"),df.Location,col(\"Employee ID\")).show()"
      ],
      "metadata": {
        "id": "2uV27QdzhvQK"
      },
      "id": "2uV27QdzhvQK",
      "execution_count": null,
      "outputs": []
    },
    {
      "cell_type": "code",
      "source": [
        "df.show()"
      ],
      "metadata": {
        "id": "DDwG_BiDe1LN"
      },
      "id": "DDwG_BiDe1LN",
      "execution_count": null,
      "outputs": []
    },
    {
      "cell_type": "code",
      "source": [
        "df.show()"
      ],
      "metadata": {
        "id": "wmRTcWQRkr_0"
      },
      "id": "wmRTcWQRkr_0",
      "execution_count": null,
      "outputs": []
    },
    {
      "cell_type": "code",
      "source": [],
      "metadata": {
        "id": "9fWjKP1QmaZe"
      },
      "id": "9fWjKP1QmaZe",
      "execution_count": null,
      "outputs": []
    },
    {
      "cell_type": "code",
      "source": [
        "df_emp=df.selectExpr(\"`Employee ID`\",\"Name\",\"Location\",\"Department\",\"`Job Title`\").where(\"`Employee ID`='E1001'\")"
      ],
      "metadata": {
        "id": "isnQ_h0Zkr9d"
      },
      "execution_count": null,
      "outputs": [],
      "id": "isnQ_h0Zkr9d"
    },
    {
      "cell_type": "code",
      "source": [
        "df_emp.write.format(\"csv\").save(\"/content/sample_data/df_emp.csv\")"
      ],
      "metadata": {
        "id": "2KTBC7ZPe1Nu"
      },
      "id": "2KTBC7ZPe1Nu",
      "execution_count": null,
      "outputs": []
    },
    {
      "cell_type": "code",
      "source": [
        "from pyspark.sql import SparkSession\n",
        "Spark=(SparkSession\n",
        "       .builder\n",
        "       .appName(\"Spark_Intro\")\n",
        "       .getOrCreate())"
      ],
      "metadata": {
        "id": "nGNxTEo5e1QP"
      },
      "id": "nGNxTEo5e1QP",
      "execution_count": null,
      "outputs": []
    },
    {
      "cell_type": "code",
      "source": [
        "Spark"
      ],
      "metadata": {
        "id": "p6YvjA-fgiK5"
      },
      "id": "p6YvjA-fgiK5",
      "execution_count": null,
      "outputs": []
    },
    {
      "cell_type": "code",
      "source": [
        "df=Spark.read.csv(\"/content/sample_data/employee_details_0915.csv\",header=True,inferSchema=True,)"
      ],
      "metadata": {
        "id": "pjqYqeUEgiNp"
      },
      "id": "pjqYqeUEgiNp",
      "execution_count": null,
      "outputs": []
    },
    {
      "cell_type": "code",
      "source": [
        "df.show()"
      ],
      "metadata": {
        "id": "Y7kyN8idgiQQ"
      },
      "id": "Y7kyN8idgiQQ",
      "execution_count": null,
      "outputs": []
    },
    {
      "cell_type": "code",
      "source": [
        "df.printSchema()"
      ],
      "metadata": {
        "id": "jCazusIAhAlS"
      },
      "id": "jCazusIAhAlS",
      "execution_count": null,
      "outputs": []
    },
    {
      "cell_type": "code",
      "source": [
        "df.schema"
      ],
      "metadata": {
        "id": "eV4dpErjhAoP"
      },
      "id": "eV4dpErjhAoP",
      "execution_count": null,
      "outputs": []
    },
    {
      "cell_type": "code",
      "source": [
        "df.show()"
      ],
      "metadata": {
        "id": "TsNhHzEghArC"
      },
      "id": "TsNhHzEghArC",
      "execution_count": null,
      "outputs": []
    },
    {
      "cell_type": "code",
      "source": [
        "from pyspark.sql.functions import expr,col"
      ],
      "metadata": {
        "id": "iKwuVQyIiBvo"
      },
      "id": "iKwuVQyIiBvo",
      "execution_count": null,
      "outputs": []
    },
    {
      "cell_type": "code",
      "source": [
        "##with seperate expr command\n",
        "df_rename=df.select(expr(\"`Employee ID` as EMP_ID\"),\"Name\",\"Department\",expr(\"`Job Title` as Role_Desc\"),\"Location\",\"Address\",\"Salary\")"
      ],
      "metadata": {
        "id": "3tTBJn59jm1s"
      },
      "id": "3tTBJn59jm1s",
      "execution_count": null,
      "outputs": []
    },
    {
      "cell_type": "code",
      "source": [
        "##with expr select statement\n",
        "df_rename1=df.selectExpr(\"`Employee ID` as EMP_ID\",\"Name\",\"Department\",\"`Job Title` as Role_Desc\",\"Location\",\"Address\",\"Salary\")"
      ],
      "metadata": {
        "id": "olpfJPEohn1M"
      },
      "id": "olpfJPEohn1M",
      "execution_count": null,
      "outputs": []
    },
    {
      "cell_type": "code",
      "source": [
        "df_rename1.show()"
      ],
      "metadata": {
        "id": "3EYdcUmlhAt4"
      },
      "id": "3EYdcUmlhAt4",
      "execution_count": null,
      "outputs": []
    },
    {
      "cell_type": "code",
      "source": [
        "df"
      ],
      "metadata": {
        "id": "NwNr2MMIhAwh"
      },
      "id": "NwNr2MMIhAwh",
      "execution_count": null,
      "outputs": []
    },
    {
      "cell_type": "code",
      "source": [
        "df_filter"
      ],
      "metadata": {
        "id": "NGN4d5VmixCK"
      },
      "id": "NGN4d5VmixCK",
      "execution_count": null,
      "outputs": []
    },
    {
      "cell_type": "code",
      "source": [
        "df_rename"
      ],
      "metadata": {
        "id": "063iHKcVixEx"
      },
      "id": "063iHKcVixEx",
      "execution_count": null,
      "outputs": []
    },
    {
      "cell_type": "code",
      "source": [
        "df_cast=df.selectExpr(\"`Employee ID` as EMP_ID\",\"Name\",\"Department\",\"`Job Title` as Role_Desc\",\"Location\",\"Address\",\"cast(Salary as string) as Salary\").where(\"Salary > 100000\")"
      ],
      "metadata": {
        "id": "axr_69AQixHC"
      },
      "id": "axr_69AQixHC",
      "execution_count": null,
      "outputs": []
    },
    {
      "cell_type": "code",
      "source": [
        "df_cast.show()"
      ],
      "metadata": {
        "collapsed": true,
        "id": "XDmAmCb7ixJy"
      },
      "id": "XDmAmCb7ixJy",
      "execution_count": null,
      "outputs": []
    },
    {
      "cell_type": "code",
      "source": [
        "df_cast.printSchema()"
      ],
      "metadata": {
        "id": "jOqUXu9SixMZ"
      },
      "id": "jOqUXu9SixMZ",
      "execution_count": null,
      "outputs": []
    },
    {
      "cell_type": "code",
      "source": [
        "df_cast.write.format(\"csv\").save(\"/content/sample_data/df_salary_1lacks.csv\")"
      ],
      "metadata": {
        "id": "7lYwFrAMixPB"
      },
      "id": "7lYwFrAMixPB",
      "execution_count": null,
      "outputs": []
    },
    {
      "cell_type": "code",
      "source": [
        "# To save as a single file, repartition to 1 partition before saving\n",
        "df_cast.coalesce(1).write.format(\"csv\").mode(\"overwrite\").save(\"/content/sample_data/1lac_salary.csv\")"
      ],
      "metadata": {
        "id": "uBP8Tb5MixRq"
      },
      "id": "uBP8Tb5MixRq",
      "execution_count": null,
      "outputs": []
    },
    {
      "cell_type": "code",
      "metadata": {
        "id": "efdc3ec1"
      },
      "source": [
        "!ls -l /content/sample_data/"
      ],
      "id": "efdc3ec1",
      "execution_count": null,
      "outputs": []
    },
    {
      "cell_type": "code",
      "source": [
        "!ls -l /content/sample_data/df_salary_1lac.csv/."
      ],
      "metadata": {
        "id": "bznqtLg2l85Y"
      },
      "id": "bznqtLg2l85Y",
      "execution_count": null,
      "outputs": []
    },
    {
      "cell_type": "code",
      "source": [
        "!rm /content/sample_data/df_salary_1lac.csv/*"
      ],
      "metadata": {
        "id": "Ab-Br_I9ixUF"
      },
      "id": "Ab-Br_I9ixUF",
      "execution_count": null,
      "outputs": []
    },
    {
      "cell_type": "code",
      "source": [],
      "metadata": {
        "id": "i2dpjY_PixXU"
      },
      "id": "i2dpjY_PixXU",
      "execution_count": null,
      "outputs": []
    },
    {
      "cell_type": "code",
      "source": [
        "# To save as a single file, repartition to 1 partition before saving\n",
        "df_cast.coalesce(1).write.format(\"csv\").mode(\"overwrite\").option(\"header\", \"true\").save(\"/content/sample_data/df_salary_1lac.csv\")"
      ],
      "metadata": {
        "id": "1WtYbgdOnvMn"
      },
      "execution_count": null,
      "outputs": [],
      "id": "1WtYbgdOnvMn"
    },
    {
      "cell_type": "code",
      "source": [],
      "metadata": {
        "id": "AeXCu7OhqUB7"
      },
      "id": "AeXCu7OhqUB7",
      "execution_count": null,
      "outputs": []
    },
    {
      "cell_type": "code",
      "metadata": {
        "id": "0d8a0241"
      },
      "source": [
        "# Create a temporary view of the DataFrame\n",
        "df.createOrReplaceTempView(\"employee_data\")\n",
        "\n",
        "# Run a SQL query against the temporary view to find employees with salary greater than 100000\n",
        "high_salary_employees = spark.sql(\"SELECT Name, Salary, Department FROM employee_data WHERE Salary > 100000\")\n",
        "\n",
        "# Show the result\n",
        "high_salary_employees.show()"
      ],
      "id": "0d8a0241",
      "execution_count": null,
      "outputs": []
    },
    {
      "cell_type": "code",
      "source": [
        "df_cast.createOrReplaceTempView(\"employee_data_0915\")\n",
        "employee_with_salary_greater_than_100000=spark.sql(\"Select Name from employee_data_0915 where Salary>100000\")\n",
        "employee_with_salary_greater_than_100000.show()"
      ],
      "metadata": {
        "id": "yY2fEi6SqT-8"
      },
      "id": "yY2fEi6SqT-8",
      "execution_count": null,
      "outputs": []
    },
    {
      "cell_type": "code",
      "source": [
        "df.createOrReplaceTempView(\"employee_data_0916\")"
      ],
      "metadata": {
        "id": "6orqgaucqT8O"
      },
      "id": "6orqgaucqT8O",
      "execution_count": null,
      "outputs": []
    },
    {
      "cell_type": "code",
      "source": [
        "EMP_JOIN=spark.sql(\"select distinct employee_data_0915.name from employee_data_0915 join employee_data_0916 on employee_data_0915.Name=employee_data_0916.Name order by employee_data_0915.Name\")\n"
      ],
      "metadata": {
        "id": "zC0Gl3GmueGL"
      },
      "id": "zC0Gl3GmueGL",
      "execution_count": null,
      "outputs": []
    },
    {
      "cell_type": "code",
      "source": [
        "EMP_JOIN.show()"
      ],
      "metadata": {
        "id": "DCVqkIxGufAD"
      },
      "id": "DCVqkIxGufAD",
      "execution_count": null,
      "outputs": []
    },
    {
      "cell_type": "code",
      "source": [
        "if 'spark' in locals() and spark:\n",
        "  print(\"Spark session is active.\")\n",
        "else:\n",
        "  print(\"No active Spark session found.\")"
      ],
      "metadata": {
        "id": "s5ZlzEpMue8h"
      },
      "id": "s5ZlzEpMue8h",
      "execution_count": null,
      "outputs": []
    },
    {
      "cell_type": "code",
      "source": [
        "if 'spark' in locals() and spark2:\n",
        "    print(\"Active Spark session name:\", spark2.sparkContext.appName)\n",
        "else:\n",
        "    print(\"No active Spark session found.\")"
      ],
      "metadata": {
        "id": "MEkw3g73ue3G"
      },
      "id": "MEkw3g73ue3G",
      "execution_count": null,
      "outputs": []
    },
    {
      "cell_type": "code",
      "source": [
        "from pyspark.sql import SparkSession\n",
        "spark=(SparkSession\n",
        "       .builder\n",
        "       .appName(\"SparkIntro\")\n",
        "       .getOrCreate()\n",
        "       )\n",
        "spark2=(SparkSession\n",
        "       .builder\n",
        "       .appName(\"SparkBasics\")\n",
        "       .getOrCreate()\n",
        "       )"
      ],
      "metadata": {
        "id": "ZETyzU9UYl8L"
      },
      "id": "ZETyzU9UYl8L",
      "execution_count": null,
      "outputs": []
    },
    {
      "cell_type": "code",
      "source": [
        "df=spark.read.csv(\"/content/sample_data/employee_details_0915.csv\",header=True,inferSchema=True)\n",
        "df.show()"
      ],
      "metadata": {
        "id": "qv9DTZiCqT5Y"
      },
      "id": "qv9DTZiCqT5Y",
      "execution_count": null,
      "outputs": []
    },
    {
      "cell_type": "code",
      "source": [
        "df_add_Col=df.withColumn(\"New_Sal\",(df.Salary*0.2)+df.Salary)"
      ],
      "metadata": {
        "id": "mwG-rNjyY_Vs"
      },
      "id": "mwG-rNjyY_Vs",
      "execution_count": null,
      "outputs": []
    },
    {
      "cell_type": "code",
      "source": [
        "from pyspark.sql.functions import col,cast,lit\n",
        "df_add_Col=df_add_Col.select(\"Name\",\"Salary\",col(\"New_Sal\").cast(\"int\"))\n",
        "df_add_Col.printSchema()"
      ],
      "metadata": {
        "id": "jVIsnFkMY_SV"
      },
      "id": "jVIsnFkMY_SV",
      "execution_count": null,
      "outputs": []
    },
    {
      "cell_type": "code",
      "source": [
        "df_add_Col=df.withColumn(\"Percentage\",lit(\"0.2\")).show()"
      ],
      "metadata": {
        "id": "045uSYKSY_QQ"
      },
      "id": "045uSYKSY_QQ",
      "execution_count": null,
      "outputs": []
    },
    {
      "cell_type": "code",
      "source": [
        "from pyspark.sql.functions import lit, when, col\n",
        "\n",
        "# Add two new columns: 'Bonus_Percentage' and 'Is_Manager'\n",
        "df_with_new_cols = df.withColumn(\"Bonus_Percentage\", lit(0.10)).withColumn(\"Is_Manager\", when(col(\"Job Title\") == \"Manager\", True).otherwise(False))\n",
        "\n",
        "# Show the updated DataFrame\n",
        "df_with_new_cols.show()"
      ],
      "metadata": {
        "id": "QkW8QFFnY_N8"
      },
      "id": "QkW8QFFnY_N8",
      "execution_count": null,
      "outputs": []
    },
    {
      "cell_type": "code",
      "source": [
        "from pyspark.sql.functions import *"
      ],
      "metadata": {
        "id": "UYEPNPN1Y_Lb"
      },
      "id": "UYEPNPN1Y_Lb",
      "execution_count": null,
      "outputs": []
    },
    {
      "cell_type": "code",
      "source": [
        "df_check=df.select(when(lit(1)==lit(2),True).otherwise(False).alias(\"NEW_BOOL\")).show()"
      ],
      "metadata": {
        "id": "EM8JD5TZY_JQ"
      },
      "id": "EM8JD5TZY_JQ",
      "execution_count": null,
      "outputs": []
    },
    {
      "cell_type": "code",
      "source": [
        "df_check=df.select(\"Name\",lit(1).alias(\"BOOL\")).show()"
      ],
      "metadata": {
        "id": "FPTQ5VbzY_G_"
      },
      "id": "FPTQ5VbzY_G_",
      "execution_count": null,
      "outputs": []
    },
    {
      "cell_type": "code",
      "source": [
        "df.createOrReplaceTempView(\"EMP1\")"
      ],
      "metadata": {
        "id": "gz8kV0XLhlN6"
      },
      "id": "gz8kV0XLhlN6",
      "execution_count": null,
      "outputs": []
    },
    {
      "cell_type": "code",
      "source": [
        "TABLE_VIEW=spark.sql(\"select * from EMP1\").show()"
      ],
      "metadata": {
        "id": "9UhezNzHY_Ex"
      },
      "id": "9UhezNzHY_Ex",
      "execution_count": null,
      "outputs": []
    },
    {
      "cell_type": "code",
      "source": [
        "from google.colab import drive\n",
        "drive.mount('/content/drive')"
      ],
      "metadata": {
        "id": "VuPb5jg2sWjm"
      },
      "id": "VuPb5jg2sWjm",
      "execution_count": null,
      "outputs": []
    },
    {
      "cell_type": "code",
      "source": [],
      "metadata": {
        "id": "5NvNnI_SY_CQ"
      },
      "id": "5NvNnI_SY_CQ",
      "execution_count": null,
      "outputs": []
    },
    {
      "cell_type": "code",
      "source": [],
      "metadata": {
        "id": "c1lNFHF0Y_AN"
      },
      "id": "c1lNFHF0Y_AN",
      "execution_count": null,
      "outputs": []
    },
    {
      "cell_type": "code",
      "source": [],
      "metadata": {
        "id": "Gsp3E_Q3Y-99"
      },
      "id": "Gsp3E_Q3Y-99",
      "execution_count": null,
      "outputs": []
    },
    {
      "cell_type": "code",
      "source": [],
      "metadata": {
        "id": "w2klsLweY-7t"
      },
      "id": "w2klsLweY-7t",
      "execution_count": null,
      "outputs": []
    },
    {
      "cell_type": "code",
      "source": [],
      "metadata": {
        "id": "Np4PwiKnY-5X"
      },
      "id": "Np4PwiKnY-5X",
      "execution_count": null,
      "outputs": []
    },
    {
      "cell_type": "code",
      "source": [],
      "metadata": {
        "id": "kjZFzmDjY-21"
      },
      "id": "kjZFzmDjY-21",
      "execution_count": null,
      "outputs": []
    },
    {
      "cell_type": "code",
      "source": [],
      "metadata": {
        "id": "NHgQiZAHY-0l"
      },
      "id": "NHgQiZAHY-0l",
      "execution_count": null,
      "outputs": []
    },
    {
      "cell_type": "code",
      "source": [],
      "metadata": {
        "id": "EfDGYu7mY-yV"
      },
      "id": "EfDGYu7mY-yV",
      "execution_count": null,
      "outputs": []
    },
    {
      "cell_type": "code",
      "source": [],
      "metadata": {
        "id": "KixUlhUzY-wC"
      },
      "id": "KixUlhUzY-wC",
      "execution_count": null,
      "outputs": []
    },
    {
      "cell_type": "code",
      "source": [],
      "metadata": {
        "id": "hWdEaUHcY-ts"
      },
      "id": "hWdEaUHcY-ts",
      "execution_count": null,
      "outputs": []
    },
    {
      "cell_type": "code",
      "source": [],
      "metadata": {
        "id": "hO768J5FY-rk"
      },
      "id": "hO768J5FY-rk",
      "execution_count": null,
      "outputs": []
    },
    {
      "cell_type": "code",
      "source": [],
      "metadata": {
        "id": "vcv8ho2vY-pY"
      },
      "id": "vcv8ho2vY-pY",
      "execution_count": null,
      "outputs": []
    },
    {
      "cell_type": "code",
      "source": [],
      "metadata": {
        "id": "EHEVGtMrY-nN"
      },
      "id": "EHEVGtMrY-nN",
      "execution_count": null,
      "outputs": []
    },
    {
      "cell_type": "code",
      "source": [],
      "metadata": {
        "id": "XD6Ek-NFY-k-"
      },
      "id": "XD6Ek-NFY-k-",
      "execution_count": null,
      "outputs": []
    },
    {
      "cell_type": "code",
      "source": [],
      "metadata": {
        "id": "8fQGsC3yY-iz"
      },
      "id": "8fQGsC3yY-iz",
      "execution_count": null,
      "outputs": []
    },
    {
      "cell_type": "code",
      "source": [],
      "metadata": {
        "id": "BoPwiLnaY-gp"
      },
      "id": "BoPwiLnaY-gp",
      "execution_count": null,
      "outputs": []
    },
    {
      "cell_type": "code",
      "source": [],
      "metadata": {
        "id": "k7vqP67xY-eK"
      },
      "id": "k7vqP67xY-eK",
      "execution_count": null,
      "outputs": []
    },
    {
      "cell_type": "code",
      "source": [],
      "metadata": {
        "id": "pyOply2AY-bz"
      },
      "id": "pyOply2AY-bz",
      "execution_count": null,
      "outputs": []
    }
  ],
  "metadata": {
    "kernelspec": {
      "display_name": "Python 3",
      "name": "python3"
    },
    "language_info": {
      "name": "python"
    },
    "required_libs": [],
    "colab": {
      "provenance": [],
      "include_colab_link": true
    }
  },
  "nbformat": 4,
  "nbformat_minor": 5
}