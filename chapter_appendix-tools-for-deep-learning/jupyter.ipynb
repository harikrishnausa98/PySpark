{
  "cells": [
    {
      "cell_type": "code",
      "source": [],
      "metadata": {
        "id": "SZxoJCCexyBu"
      },
      "id": "SZxoJCCexyBu",
      "execution_count": null,
      "outputs": []
    },
    {
      "cell_type": "code",
      "source": [],
      "metadata": {
        "id": "6dWmD839xyOk"
      },
      "id": "6dWmD839xyOk",
      "execution_count": null,
      "outputs": []
    },
    {
      "cell_type": "code",
      "source": [],
      "metadata": {
        "id": "VdKt1PA1xyRV"
      },
      "id": "VdKt1PA1xyRV",
      "execution_count": null,
      "outputs": []
    },
    {
      "cell_type": "code",
      "source": [],
      "metadata": {
        "id": "L4eNJMvRxyUJ"
      },
      "id": "L4eNJMvRxyUJ",
      "execution_count": null,
      "outputs": []
    }
  ],
  "metadata": {
    "kernelspec": {
      "display_name": "Python 3",
      "name": "python3"
    },
    "language_info": {
      "name": "python"
    },
    "required_libs": [],
    "colab": {
      "provenance": []
    }
  },
  "nbformat": 4,
  "nbformat_minor": 5
}